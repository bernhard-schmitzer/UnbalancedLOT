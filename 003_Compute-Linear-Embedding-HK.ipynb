{
 "cells": [
  {
   "cell_type": "code",
   "execution_count": 1,
   "id": "f449fd1c",
   "metadata": {},
   "outputs": [],
   "source": [
    "from lib.header_notebook import *\n",
    "import lib.OTCommon as OTCommon\n",
    "import lib.SinkhornNP as Sinkhorn\n",
    "import lib.LinHK as LinHK\n",
    "import lib.LinW2 as LinW2\n",
    "\n",
    "%matplotlib inline"
   ]
  },
  {
   "cell_type": "markdown",
   "id": "396f697d",
   "metadata": {},
   "source": [
    "# Compute HK tangent space embedding"
   ]
  },
  {
   "cell_type": "code",
   "execution_count": 2,
   "id": "5770f0a9",
   "metadata": {},
   "outputs": [],
   "source": [
    "# load reference measure, here we just take Euclidean mean\n",
    "datRef=OTCommon.importMeasure(\"data/two_ellipses_rad0d25/mean.mat\",totalMass=1.,keepZero=False)\n",
    "muRef=datRef[1]\n",
    "posRef=datRef[2].astype(np.double)"
   ]
  },
  {
   "cell_type": "code",
   "execution_count": 3,
   "id": "5660bc55",
   "metadata": {},
   "outputs": [],
   "source": [
    "params={}\n",
    "params[\"setup_HKMode\"]=True\n",
    "params[\"setup_HKScale\"]=5\n",
    "params[\"solver_errorGoal\"]=1.E-4\n",
    "params[\"aux_verbose\"]=False\n",
    "params[\"solver_epsStart\"]=1E3\n",
    "params[\"solver_epsTarget\"]=0.1"
   ]
  },
  {
   "cell_type": "code",
   "execution_count": 4,
   "id": "ee8972bc",
   "metadata": {},
   "outputs": [
    {
     "name": "stdout",
     "output_type": "stream",
     "text": [
      "0\n",
      "1\n",
      "2\n",
      "3\n",
      "4\n",
      "5\n",
      "6\n",
      "7\n",
      "8\n",
      "9\n",
      "10\n",
      "11\n",
      "12\n",
      "13\n",
      "14\n",
      "15\n",
      "16\n",
      "17\n",
      "18\n",
      "19\n",
      "20\n",
      "21\n",
      "22\n",
      "23\n",
      "24\n",
      "25\n",
      "26\n",
      "27\n",
      "28\n",
      "29\n",
      "30\n",
      "31\n",
      "32\n",
      "33\n",
      "34\n",
      "35\n",
      "36\n",
      "37\n",
      "38\n",
      "39\n",
      "40\n",
      "41\n",
      "42\n",
      "43\n",
      "44\n",
      "45\n",
      "46\n",
      "47\n",
      "48\n",
      "49\n",
      "50\n",
      "51\n",
      "52\n",
      "53\n",
      "54\n",
      "55\n",
      "56\n",
      "57\n",
      "58\n",
      "59\n",
      "60\n",
      "61\n",
      "62\n",
      "63\n"
     ]
    }
   ],
   "source": [
    "# compute all tangent vectors and distances\n",
    "tangentList=[]\n",
    "distList=[]\n",
    "for i in range(64):\n",
    "    print(i)\n",
    "    filename=\"data/two_ellipses_rad0d25/sample_{:03d}.mat\".format(i)\n",
    "    datSamp=OTCommon.importMeasure(filename,totalMass=1.,keepZero=False)\n",
    "    muSamp=datSamp[1]\n",
    "    posSamp=datSamp[2].astype(np.double)\n",
    "\n",
    "    # solve HK transport\n",
    "    value,pi=Sinkhorn.SolveHK(muRef,posRef,muSamp,posSamp,HKScale=params[\"setup_HKScale\"],\n",
    "            SinkhornError=params[\"solver_errorGoal\"],\n",
    "            epsTarget=params[\"solver_epsTarget\"], epsInit=params[\"solver_epsStart\"],\n",
    "            returnSolver=False\n",
    "            )    \n",
    "    # from optimal coupling compute tangent vector data\n",
    "    u0,u1,x1,refPerp,sampPerp=LinHK.extractMongeData(pi,muRef,muSamp,posSamp)\n",
    "    v0,alpha0=LinHK.HKLog(posRef,u0,x1,u1,params[\"setup_HKScale\"])\n",
    "    tangentList.append((v0,alpha0,sampPerp))\n",
    "    distList.append(value)"
   ]
  },
  {
   "cell_type": "code",
   "execution_count": 5,
   "id": "257d7916",
   "metadata": {},
   "outputs": [],
   "source": [
    "import pickle\n",
    "with open(\"experiments/two_ellipses_rad0d25_HK5/tangent.dat\", 'wb') as f:\n",
    "    pickle.dump([tangentList,distList],f,2)"
   ]
  },
  {
   "cell_type": "code",
   "execution_count": null,
   "id": "0f3eb1a3",
   "metadata": {},
   "outputs": [],
   "source": []
  }
 ],
 "metadata": {
  "jupytext": {
   "formats": "ipynb,py:light"
  },
  "kernelspec": {
   "display_name": "Python 3",
   "language": "python",
   "name": "python3"
  },
  "language_info": {
   "codemirror_mode": {
    "name": "ipython",
    "version": 3
   },
   "file_extension": ".py",
   "mimetype": "text/x-python",
   "name": "python",
   "nbconvert_exporter": "python",
   "pygments_lexer": "ipython3",
   "version": "3.8.8"
  }
 },
 "nbformat": 4,
 "nbformat_minor": 5
}
