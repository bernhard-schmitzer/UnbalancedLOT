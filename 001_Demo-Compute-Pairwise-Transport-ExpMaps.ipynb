{
 "cells": [
  {
   "cell_type": "code",
   "execution_count": 1,
   "id": "e9d31aac",
   "metadata": {},
   "outputs": [],
   "source": [
    "from lib.header_notebook import *\n",
    "import lib.OTCommon as OTCommon\n",
    "import lib.SinkhornNP as Sinkhorn\n",
    "import lib.LinHK as LinHK\n",
    "import lib.LinW2 as LinW2\n",
    "import lib.Tools as Tools\n",
    "\n",
    "%matplotlib inline"
   ]
  },
  {
   "cell_type": "markdown",
   "id": "3eaed371",
   "metadata": {},
   "source": [
    "# Compute optimal transport between reference and an individual sample\n",
    "* compute logarithmic map\n",
    "* some simple examples with exponential map\n",
    "* do both for W2 and for HK"
   ]
  },
  {
   "cell_type": "markdown",
   "id": "c1e15b98",
   "metadata": {},
   "source": [
    "## Import and setup"
   ]
  },
  {
   "cell_type": "code",
   "execution_count": 2,
   "id": "09c76ef9",
   "metadata": {},
   "outputs": [],
   "source": [
    "# import two samples and the linear mean\n",
    "datMu=OTCommon.importMeasure(\"data/two_ellipses_rad0d25/mean.mat\",totalMass=1.,keepZero=False)\n",
    "datNu=OTCommon.importMeasure(\"data/two_ellipses_rad0d25/sample_000.mat\",totalMass=1.,keepZero=False)\n",
    "res=datMu[3]"
   ]
  },
  {
   "cell_type": "code",
   "execution_count": 3,
   "id": "83ba0f2a",
   "metadata": {},
   "outputs": [
    {
     "data": {
      "image/png": "[encoded data removed]",
      "text/plain": [
       "<Figure size 576x288 with 2 Axes>"
      ]
     },
     "metadata": {
      "needs_background": "light"
     },
     "output_type": "display_data"
    }
   ],
   "source": [
    "# simple visualization\n",
    "fig=plt.figure(figsize=(8,4))\n",
    "for i,dat in enumerate([datMu,datNu]):\n",
    "    fig.add_subplot(1,2,i+1)\n",
    "    plt.imshow(dat[0])\n",
    "plt.show()"
   ]
  },
  {
   "cell_type": "code",
   "execution_count": 4,
   "id": "60dc7582",
   "metadata": {},
   "outputs": [],
   "source": [
    "mu=datMu[1]\n",
    "posMu=datMu[2].astype(np.double)\n",
    "\n",
    "nu=datNu[1]\n",
    "posNu=datNu[2].astype(np.double)"
   ]
  },
  {
   "cell_type": "markdown",
   "id": "b69038cd",
   "metadata": {},
   "source": [
    "## Wasserstein-2"
   ]
  },
  {
   "cell_type": "code",
   "execution_count": 5,
   "id": "f881fc17",
   "metadata": {},
   "outputs": [],
   "source": [
    "params={}\n",
    "params[\"setup_HKMode\"]=False\n",
    "params[\"solver_errorGoal\"]=1.E-4\n",
    "params[\"aux_verbose\"]=False\n",
    "params[\"solver_epsStart\"]=1E3\n",
    "params[\"solver_epsTarget\"]=0.1"
   ]
  },
  {
   "cell_type": "code",
   "execution_count": 6,
   "id": "8d52708a",
   "metadata": {},
   "outputs": [],
   "source": [
    "# solve W transport\n",
    "value,pi=Sinkhorn.SolveW2(mu,posMu,nu,posNu,\n",
    "        SinkhornError=params[\"solver_errorGoal\"],\n",
    "        epsTarget=params[\"solver_epsTarget\"], epsInit=params[\"solver_epsStart\"],\n",
    "        returnSolver=False\n",
    "        )\n",
    "# extract approximate Monge map (which is logarithmic map, up to subtracting initial locations)\n",
    "T=LinW2.extractMongeData(pi,posNu)"
   ]
  },
  {
   "cell_type": "code",
   "execution_count": 7,
   "id": "e8470a76",
   "metadata": {},
   "outputs": [
    {
     "name": "stdout",
     "output_type": "stream",
     "text": [
      "transport cost coupling:\t 12.751767431484883\n",
      "transport map:\t\t\t 11.295105073204466\n"
     ]
    }
   ],
   "source": [
    "# compare transport cost of piA with the approximate one implied by monge map\n",
    "print(\"transport cost coupling:\\t\",value)\n",
    "\n",
    "valueMonge=np.einsum((T-posMu)**2,[0,1],mu,[0],[])\n",
    "print(\"transport map:\\t\\t\\t\",valueMonge)\n",
    "# the difference between the two values of on the order 1, which corresponds to the discretization scale"
   ]
  },
  {
   "cell_type": "code",
   "execution_count": 8,
   "id": "eac9dd7f",
   "metadata": {},
   "outputs": [
    {
     "data": {
      "image/png": "[encoded data removed]",
      "text/plain": [
       "<Figure size 720x144 with 5 Axes>"
      ]
     },
     "metadata": {
      "needs_background": "light"
     },
     "output_type": "display_data"
    }
   ],
   "source": [
    "# visualize re-construction of input measure via exponential map\n",
    "# this will include some numerical artifacts due to:\n",
    "# discretization and pixels that are split between the two ellipses\n",
    "tList=np.linspace(0,1,num=5)\n",
    "fig=plt.figure(figsize=(10,2))\n",
    "for i,t in enumerate(tList):\n",
    "    img=Tools.rasterizePointCloud(mu,(1-t)*posMu+t*T,res)\n",
    "    fig.add_subplot(1,len(tList),i+1)\n",
    "    plt.imshow(img)\n",
    "    plt.axis(\"off\")\n",
    "plt.tight_layout()\n",
    "plt.show()"
   ]
  },
  {
   "cell_type": "markdown",
   "id": "d9593147",
   "metadata": {},
   "source": [
    "## Hellinger--Kantorovich"
   ]
  },
  {
   "cell_type": "code",
   "execution_count": 9,
   "id": "ab341037",
   "metadata": {},
   "outputs": [],
   "source": [
    "params={}\n",
    "params[\"setup_HKMode\"]=True\n",
    "params[\"setup_HKScale\"]=5\n",
    "params[\"solver_errorGoal\"]=1.E-4\n",
    "params[\"aux_verbose\"]=False\n",
    "params[\"solver_epsStart\"]=1E3\n",
    "params[\"solver_epsTarget\"]=0.1"
   ]
  },
  {
   "cell_type": "code",
   "execution_count": 10,
   "id": "66d64d4c",
   "metadata": {},
   "outputs": [],
   "source": [
    "# solve HK transport\n",
    "value,pi=Sinkhorn.SolveHK(mu,posMu,nu,posNu,HKScale=params[\"setup_HKScale\"],\n",
    "        SinkhornError=params[\"solver_errorGoal\"],\n",
    "        epsTarget=params[\"solver_epsTarget\"], epsInit=params[\"solver_epsStart\"],\n",
    "        returnSolver=False\n",
    "        )"
   ]
  },
  {
   "cell_type": "code",
   "execution_count": 11,
   "id": "60ce633f",
   "metadata": {
    "lines_to_next_cell": 2
   },
   "outputs": [],
   "source": [
    "# from optimal coupling compute tangent vector data\n",
    "u0,u1,x1,muPerp,nuPerp=LinHK.extractMongeData(pi,mu,nu,posNu)\n",
    "v0,alpha0=LinHK.HKLog(posMu,u0,x1,u1,params[\"setup_HKScale\"])"
   ]
  },
  {
   "cell_type": "code",
   "execution_count": 12,
   "id": "901e11f8",
   "metadata": {},
   "outputs": [
    {
     "name": "stdout",
     "output_type": "stream",
     "text": [
      "transport cost coupling:\t 0.4735332795002504\n",
      "transport map:\t\t\t 0.27911908119141404\n"
     ]
    }
   ],
   "source": [
    "# compare transport cost of piA with the approximate one implied by monge map\n",
    "print(\"transport cost coupling:\\t\",value)\n",
    "\n",
    "valueMonge=LinHK.HKInnerProduct(mu,v0,alpha0,v0,alpha0,HKScale=params[\"setup_HKScale\"])\n",
    "print(\"transport map:\\t\\t\\t\",valueMonge)\n",
    "# the difference between the two values of on the order 1, which corresponds to the discretization scale\n",
    "# now this looks more significant, since the two measures are now much closer to each other"
   ]
  },
  {
   "cell_type": "code",
   "execution_count": 13,
   "id": "40585cf5",
   "metadata": {},
   "outputs": [
    {
     "data": {
      "image/png": "[encoded data removed]",
      "text/plain": [
       "<Figure size 720x144 with 5 Axes>"
      ]
     },
     "metadata": {
      "needs_background": "light"
     },
     "output_type": "display_data"
    }
   ],
   "source": [
    "# visualize re-construction of input measure via exponential map\n",
    "# this will include some numerical artifacts due to discretization\n",
    "tList=np.linspace(0,1,num=5)\n",
    "fig=plt.figure(figsize=(10,2))\n",
    "for i,t in enumerate(tList):\n",
    "    # shoot averaged tangent vector back to a measure\n",
    "    expMu,expT=LinHK.HKExp(mu,posMu,t*v0,t*alpha0,HKScale=params[\"setup_HKScale\"])\n",
    "\n",
    "    img=Tools.rasterizePointCloud(expMu,expT,res)\n",
    "    fig.add_subplot(1,len(tList),i+1)\n",
    "    plt.imshow(img)\n",
    "    plt.axis(\"off\")\n",
    "plt.tight_layout()\n",
    "plt.show()"
   ]
  },
  {
   "cell_type": "code",
   "execution_count": null,
   "id": "115c6f7c",
   "metadata": {
    "lines_to_next_cell": 2
   },
   "outputs": [],
   "source": []
  }
 ],
 "metadata": {
  "jupytext": {
   "formats": "ipynb,py:light"
  },
  "kernelspec": {
   "display_name": "Python 3",
   "language": "python",
   "name": "python3"
  },
  "language_info": {
   "codemirror_mode": {
    "name": "ipython",
    "version": 3
   },
   "file_extension": ".py",
   "mimetype": "text/x-python",
   "name": "python",
   "nbconvert_exporter": "python",
   "pygments_lexer": "ipython3",
   "version": "3.8.8"
  }
 },
 "nbformat": 4,
 "nbformat_minor": 5
}
